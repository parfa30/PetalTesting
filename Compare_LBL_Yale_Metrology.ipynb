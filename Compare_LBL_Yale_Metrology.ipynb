{
 "cells": [
  {
   "cell_type": "markdown",
   "metadata": {},
   "source": [
    "# Comparison of LBL Metrology to Yale Metrology"
   ]
  },
  {
   "cell_type": "code",
   "execution_count": 7,
   "metadata": {
    "collapsed": true
   },
   "outputs": [],
   "source": [
    "import numpy as np"
   ]
  },
  {
   "cell_type": "code",
   "execution_count": 1,
   "metadata": {
    "collapsed": true
   },
   "outputs": [],
   "source": [
    "#These are the DEVICE LOC from the metrology report and the CAN IDs they are associated with\n",
    "dev_to_id = {11:10018,75:10125,150:10014,239:10082,321:10124,439:10104,482:10010,496:10066,517:10023,534:10096,541:10501,542:10500}"
   ]
  },
  {
   "cell_type": "code",
   "execution_count": 18,
   "metadata": {
    "collapsed": true
   },
   "outputs": [],
   "source": [
    "#These are the CAN IDs and their respective Yale ID number\n",
    "id_to_fid = {10018:'P18',10125:'P125',10014:'P14',10082:'P82',10124:'P124',10104:'P104',10010:'P10',10066:'P66',10023:'P23',10096:'P96',10501:'P50',10500:'P53'}"
   ]
  },
  {
   "cell_type": "code",
   "execution_count": 33,
   "metadata": {
    "collapsed": true
   },
   "outputs": [],
   "source": [
    "lbl_metr = {11:{'x':[54.1106, 55.0588, 53.143, 54.1013],'y':[31.4982,32.7687,32.1948,32.4807],'z':[-0.4211,-0.4402,-0.4189,-0.4189]},\n",
    "            75:{'x':[152.8542,152.1013,153.9122,153.0066],'y':[42.5018,41.0902,41.9366,41.5132],'z':[-2.7129,-2.675,-2.734,-2.6984]},\n",
    "            150:{'x':[242.1673,241.0156,241.7302,241.3727],'y':[13.8145,13.4861,15.3529,14.419],'z':[-6.5002,-6.4473,-6.4968,-6.4523]},\n",
    "            239:{'x':[215.5641,216.0692,214.4264,215.2476],'y':[148.7167,150.2349,149.0969,149.6658],'z':[-7.582,-7.6451,-7.5513,-7.5929]},\n",
    "            321:{'x':[303.1429,304.7268,303.3011,304.0133],'y':[86.0011,85.7908,87.1898,86.4902],'z':[-11.0717,-11.157,-11.1026,-11.1236]},\n",
    "            439:{'x':[410.009,408.9224,409.3509,409.1367],'y':[13.8173,13.3205,15.2742,14.2967],'z':[-19.0452,-18.9218,-18.9819,-18.9425]},\n",
    "            482:{'x':[403.2545,404.4459,403.3304,403.8885],'y':[60.2251,60.2805,58.6269,59.4533],'z':[-18.7867,-18.916,-18.7695,-18.8354]},\n",
    "            496:{'x':[331.4564,330.3321,330.911,330.6224],'y':[185.1579,184.7484,186.6609,185.7065],'z':[-16.1709,-16.0605,-16.1993,-16.1233]},\n",
    "            517:{'x':[393.3822,394.5737,393.4319,394.0033],'y':[114.2219,114.2605,112.6238,113.4406],'z':[-18.9126,-19.0524,-18.8652,-18.9446]},\n",
    "            534:{'x':[368.2046,366.7166,368.627,367.6721],'y':[177.6868,177.1265,176.5664,176.8471],'z':[-18.9069,-18.7288,-18.894,-18.802]},\n",
    "            541:{'x':[295.1281,296.2693,294.2937,295.2831],'y':[206.4765,207.5876,207.3405,207.463],'z':[-14.5572,-14.723,-14.5424,-14.6198]},\n",
    "            542:{'x':[357.4358,356.2627,357.7501,357.0068],'y':[201.6861,201.9266,203.2532,202.5888],'z':[-19.1853,-19.1144,-19.3056,-19.2001]}}"
   ]
  },
  {
   "cell_type": "code",
   "execution_count": 34,
   "metadata": {
    "collapsed": true
   },
   "outputs": [],
   "source": [
    "yale_metr = {10023:{'x':[0.0010,1.6020,0.0013,0.8013],'y':[0.0002,-0.0003,1.2010,0.6002]},\n",
    "             10096:{'x':[0.0006,1.6007,0.0024,0.8019],'y':[-0.0011,-0.0020,1.1987,0.5981]},\n",
    "             10010:{'x':[-0.0017,1.5991,-0.0006,0.7988],'y':[0.0002,-0.0021,1.2004,0.5983]},\n",
    "             10014:{'x':[0.0006,1.6015,-0.0004,0.8001],'y':[0.0019,0.0023,1.2005,0.6019]},\n",
    "             10018:{'x':[0.0016,1.6017,0.0030,0.8025],'y':[0.0020,0.0002,1.2022,0.6013]},\n",
    "             10066:{'x':[-0.0005,1.6003,-0.0011,0.7996],'y':[0.0001,-0.0012,1.2002,0.6000]},\n",
    "             10082:{'x':[-0.0024,1.5973,-0.0030,0.7973],'y':[0.0002,-0.0004,1.1992,0.6001]},\n",
    "             10104:{'x':[0.0006,1.5999,-0.0004,0.7998],'y':[0.0004,0.0028,1.2014,0.6015]},\n",
    "             10124:{'x':[0.0012,1.5989,0.0022,0.8002],'y':[0.0001,-0.0010,1.2005,0.6000]},\n",
    "             10125:{'x':[-0.0003,1.6000,-0.0001,0.7996],'y':[-0.0002,-0.0003,1.1994,0.6004]},\n",
    "             10500:{'x':[-0.0018,1.5981,-0.0017,0.7984],'y':[0.0024,0.0018,1.2042,0.6041]},\n",
    "             10501:{'x':[0.0010,1.6016,0.0006,0.8007],'y':[-0.0006,-0.0018,1.1996,0.5982]}}"
   ]
  },
  {
   "cell_type": "code",
   "execution_count": 35,
   "metadata": {
    "collapsed": false
   },
   "outputs": [],
   "source": [
    "#Swap 2 and 3 according to David\n",
    "updated_lbl_metr = lbl_metr.copy()\n",
    "to_swap = [534, 321, 541,75,239,11]\n",
    "for dev in to_swap:\n",
    "    idx = [0,2,1,3]\n",
    "    for l in ['x','y','z']:\n",
    "        x = lbl_metr[dev][l]\n",
    "        newx = np.array(x)[idx]\n",
    "        updated_lbl_metr[dev][l] = newx"
   ]
  },
  {
   "cell_type": "code",
   "execution_count": 36,
   "metadata": {
    "collapsed": false
   },
   "outputs": [],
   "source": [
    "#Calculate the mean r for each pinhole for each fiducial from the LBL metrology\n",
    "R = {}\n",
    "for device, meas in updated_lbl_metr.items():\n",
    "    xavg = np.mean(meas['x'])\n",
    "    yavg = np.mean(meas['y'])\n",
    "    zavg = np.mean(meas['z'])\n",
    "    rr = []\n",
    "    for pin in [0,1,2,3]:\n",
    "        r = np.sqrt((meas['x'][pin]-xavg)**2.+(meas['y'][pin]-yavg)**2.+(meas['z'][pin]-zavg)**2.)\n",
    "        rr.append(r)\n",
    "    R[device] = rr"
   ]
  },
  {
   "cell_type": "code",
   "execution_count": 37,
   "metadata": {
    "collapsed": false
   },
   "outputs": [],
   "source": [
    "#Calculate the mean r for each pinhole for each fiducial from the LBL metrology\n",
    "F = {}\n",
    "for device, meas in yale_metr.items():\n",
    "    xavg = np.mean(meas['x'])\n",
    "    yavg = np.mean(meas['y'])\n",
    "    rr = []\n",
    "    for pin in [0,1,2,3]:\n",
    "        r = np.sqrt((meas['x'][pin]-xavg)**2.+(meas['y'][pin]-yavg)**2.)\n",
    "        rr.append(r)\n",
    "    F[device] = rr"
   ]
  },
  {
   "cell_type": "code",
   "execution_count": 38,
   "metadata": {
    "collapsed": false
   },
   "outputs": [
    {
     "name": "stdout",
     "output_type": "stream",
     "text": [
      "P124 10124 321\n",
      "pinhole 1: 0.00087\n",
      "pinhole 2: -0.13597\n",
      "pinhole 3: 0.13610\n",
      "pinhole 4: -0.00023\n",
      "------------------\n",
      "P10 10010 482\n",
      "pinhole 1: 0.00004\n",
      "pinhole 2: -0.13672\n",
      "pinhole 3: 0.13541\n",
      "pinhole 4: 0.00073\n",
      "------------------\n",
      "P18 10018 11\n",
      "pinhole 1: -0.01269\n",
      "pinhole 2: -0.13532\n",
      "pinhole 3: 0.13358\n",
      "pinhole 4: -0.00499\n",
      "------------------\n",
      "P23 10023 517\n",
      "pinhole 1: -0.00191\n",
      "pinhole 2: -0.13409\n",
      "pinhole 3: 0.13666\n",
      "pinhole 4: 0.00041\n",
      "------------------\n",
      "P96 10096 534\n",
      "pinhole 1: -0.00061\n",
      "pinhole 2: -0.13712\n",
      "pinhole 3: 0.13561\n",
      "pinhole 4: -0.00006\n",
      "------------------\n",
      "P125 10125 75\n",
      "pinhole 1: 0.00007\n",
      "pinhole 2: -0.13646\n",
      "pinhole 3: 0.13642\n",
      "pinhole 4: 0.00006\n",
      "------------------\n",
      "P82 10082 239\n",
      "pinhole 1: 0.00095\n",
      "pinhole 2: -0.13619\n",
      "pinhole 3: 0.13707\n",
      "pinhole 4: -0.00009\n",
      "------------------\n",
      "P66 10066 496\n",
      "pinhole 1: -0.00062\n",
      "pinhole 2: -0.13489\n",
      "pinhole 3: 0.13590\n",
      "pinhole 4: 0.00003\n",
      "------------------\n",
      "P14 10014 150\n",
      "pinhole 1: -0.00040\n",
      "pinhole 2: -0.13746\n",
      "pinhole 3: 0.13646\n",
      "pinhole 4: 0.00061\n",
      "------------------\n",
      "P104 10104 439\n",
      "pinhole 1: 0.00002\n",
      "pinhole 2: -0.13504\n",
      "pinhole 3: 0.13646\n",
      "pinhole 4: 0.00066\n",
      "------------------\n",
      "P50 10501 541\n",
      "pinhole 1: 0.00160\n",
      "pinhole 2: -0.13714\n",
      "pinhole 3: 0.13517\n",
      "pinhole 4: 0.00004\n",
      "------------------\n",
      "P53 10500 542\n",
      "pinhole 1: -0.00013\n",
      "pinhole 2: -0.13624\n",
      "pinhole 3: 0.13733\n",
      "pinhole 4: -0.00142\n",
      "------------------\n"
     ]
    }
   ],
   "source": [
    "#Difference between LBL measurements and Yale Measurements\n",
    "for dev, can in dev_to_id.items():\n",
    "    print(id_to_fid[can], can, dev)\n",
    "    for pin in [0,1,2,3]:\n",
    "        print('pinhole %d: %.5f'%(pin+1,R[dev][pin]-F[can][pin]))\n",
    "    print('------------------')"
   ]
  },
  {
   "cell_type": "code",
   "execution_count": null,
   "metadata": {
    "collapsed": true
   },
   "outputs": [],
   "source": []
  }
 ],
 "metadata": {
  "anaconda-cloud": {},
  "kernelspec": {
   "display_name": "Python [conda root]",
   "language": "python",
   "name": "conda-root-py"
  },
  "language_info": {
   "codemirror_mode": {
    "name": "ipython",
    "version": 3
   },
   "file_extension": ".py",
   "mimetype": "text/x-python",
   "name": "python",
   "nbconvert_exporter": "python",
   "pygments_lexer": "ipython3",
   "version": "3.5.2"
  }
 },
 "nbformat": 4,
 "nbformat_minor": 1
}
